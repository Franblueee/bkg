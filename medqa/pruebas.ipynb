{
 "cells": [
  {
   "cell_type": "code",
   "execution_count": null,
   "metadata": {},
   "outputs": [],
   "source": [
    "import transformers\n",
    "\n",
    "model_name = \"meta-llama/Llama-3.2-1B-Instruct\"\n",
    "# model_name = \"Henrychur/MMed-Llama-3-8B-EnIns\"\n",
    "# model_name = \"/work/work_fran/bkg/medqa/weights/1B-Instruct_20e\"\n",
    "\n",
    "model = transformers.AutoModelForCausalLM.from_pretrained(\n",
    "    model_name,\n",
    "    trust_remote_code=True\n",
    "    # \"Henrychur/MMed-Llama-3-8B-EnIns\"\n",
    ")\n",
    "\n",
    "model.config.vocab_size\n",
    "\n",
    "\n",
    "# tokenizer = transformers.AutoTokenizer.from_pretrained(\n",
    "#     model_name,\n",
    "#     model_max_length=2048,\n",
    "#     use_fast=False,\n",
    "#     trust_remote_code=True\n",
    "# )"
   ]
  },
  {
   "cell_type": "code",
   "execution_count": null,
   "metadata": {},
   "outputs": [],
   "source": [
    "input_str = \"Output just one word. What is the capital of France?\"\n",
    "\n",
    "# apply chat template\n",
    "inputs = tokenizer.apply_chat_template(\n",
    "    [{\"role\": \"user\", \"content\": input_str}],\n",
    "    add_generation_prompt=True,\n",
    "    return_tensors=\"pt\",\n",
    "    # tokenize=False\n",
    ")\n",
    "inputs"
   ]
  },
  {
   "cell_type": "code",
   "execution_count": null,
   "metadata": {},
   "outputs": [],
   "source": [
    "input_str = \"Output just one word. What is the capital of France?\"\n",
    "\n",
    "# apply chat template\n",
    "inputs = tokenizer.apply_chat_template(\n",
    "    [{\"role\": \"user\", \"content\": input_str}],\n",
    "    add_generation_prompt=True,\n",
    "    return_tensors=\"pt\"\n",
    ")\n",
    "\n",
    "outputs = model.generate(\n",
    "    inputs,\n",
    "    max_length=100,\n",
    "    top_k=50,\n",
    ")"
   ]
  },
  {
   "cell_type": "code",
   "execution_count": null,
   "metadata": {},
   "outputs": [],
   "source": [
    "output_str = tokenizer.decode(outputs.squeeze(0))\n",
    "print(output_str)"
   ]
  },
  {
   "cell_type": "code",
   "execution_count": null,
   "metadata": {},
   "outputs": [],
   "source": [
    "import pickle\n",
    "\n",
    "def open_pickle(f):\n",
    "    with open(f, 'rb') as file:\n",
    "        data = pickle.load(file)\n",
    "    return data \n",
    "\n",
    "cui_embeds = open_pickle(\"/work/work_fran/bkg/data/graphsage_icd_embeds.pkl\")\n",
    "cui_embeds.shape"
   ]
  },
  {
   "cell_type": "code",
   "execution_count": null,
   "metadata": {},
   "outputs": [],
   "source": [
    "annot = open_pickle(\"/work/work_fran/bkg/data/medqa_annot.pkl\")\n",
    "annot[0]"
   ]
  },
  {
   "cell_type": "code",
   "execution_count": 23,
   "metadata": {},
   "outputs": [],
   "source": [
    "import pandas as pd\n",
    "node_df = pd.read_csv(\"/work/work_fran/bkg/data/logml_2025/connected_node_logml_df.csv\", sep='\\t')\n",
    "keep_codes = set(node_df.loc[node_df['ntype'] == 'ICD10CM']['node_id'].str.split(':', expand=True)[0].tolist())"
   ]
  },
  {
   "cell_type": "code",
   "execution_count": null,
   "metadata": {},
   "outputs": [],
   "source": [
    "len(keep_codes)"
   ]
  },
  {
   "cell_type": "code",
   "execution_count": null,
   "metadata": {},
   "outputs": [],
   "source": [
    "# select rows with \"ICD\" inside ntype\n",
    "keep_codes = set(node_df.loc[node_df['ntype'].str.contains(\"ICD\")]['node_id'].str.split(':', expand=True)[0].tolist())\n",
    "len(keep_codes)"
   ]
  }
 ],
 "metadata": {
  "kernelspec": {
   "display_name": "bkg",
   "language": "python",
   "name": "python3"
  },
  "language_info": {
   "codemirror_mode": {
    "name": "ipython",
    "version": 3
   },
   "file_extension": ".py",
   "mimetype": "text/x-python",
   "name": "python",
   "nbconvert_exporter": "python",
   "pygments_lexer": "ipython3",
   "version": "3.11.13"
  }
 },
 "nbformat": 4,
 "nbformat_minor": 2
}
