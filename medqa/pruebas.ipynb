{
 "cells": [
  {
   "cell_type": "code",
   "execution_count": 1,
   "metadata": {},
   "outputs": [],
   "source": [
    "import transformers\n",
    "\n",
    "# model_name = \"meta-llama/Llama-3.2-1B-Instruct\"  # or \"Henrychur/MMed-Llama-3-8B-EnIns\"\n",
    "# model_name = \"Henrychur/MMed-Llama-3-8B-EnIns\"\n",
    "model_name = \"/work/work_fran/bkg/medqa/weights/1B-Instruct_20e\"\n",
    "\n",
    "model = transformers.AutoModelForCausalLM.from_pretrained(\n",
    "    model_name,\n",
    "    trust_remote_code=True\n",
    "    # \"Henrychur/MMed-Llama-3-8B-EnIns\"\n",
    ")\n",
    "\n",
    "tokenizer = transformers.AutoTokenizer.from_pretrained(\n",
    "    model_name,\n",
    "    model_max_length=2048,\n",
    "    use_fast=False,\n",
    "    trust_remote_code=True\n",
    ")"
   ]
  },
  {
   "cell_type": "code",
   "execution_count": null,
   "metadata": {},
   "outputs": [],
   "source": [
    "input_str = \"Output just one word. What is the capital of France?\"\n",
    "\n",
    "# apply chat template\n",
    "inputs = tokenizer.apply_chat_template(\n",
    "    [{\"role\": \"user\", \"content\": input_str}],\n",
    "    add_generation_prompt=True,\n",
    "    return_tensors=\"pt\",\n",
    "    # tokenize=False\n",
    ")\n",
    "inputs"
   ]
  },
  {
   "cell_type": "code",
   "execution_count": null,
   "metadata": {},
   "outputs": [],
   "source": [
    "input_str = \"Output just one word. What is the capital of France?\"\n",
    "\n",
    "# apply chat template\n",
    "inputs = tokenizer.apply_chat_template(\n",
    "    [{\"role\": \"user\", \"content\": input_str}],\n",
    "    add_generation_prompt=True,\n",
    "    return_tensors=\"pt\"\n",
    ")\n",
    "\n",
    "outputs = model.generate(\n",
    "    inputs,\n",
    "    max_length=100,\n",
    "    top_k=50,\n",
    ")"
   ]
  },
  {
   "cell_type": "code",
   "execution_count": null,
   "metadata": {},
   "outputs": [],
   "source": [
    "output_str = tokenizer.decode(outputs.squeeze(0))\n",
    "print(output_str)"
   ]
  }
 ],
 "metadata": {
  "kernelspec": {
   "display_name": "bkg",
   "language": "python",
   "name": "python3"
  },
  "language_info": {
   "codemirror_mode": {
    "name": "ipython",
    "version": 3
   },
   "file_extension": ".py",
   "mimetype": "text/x-python",
   "name": "python",
   "nbconvert_exporter": "python",
   "pygments_lexer": "ipython3",
   "version": "3.11.13"
  }
 },
 "nbformat": 4,
 "nbformat_minor": 2
}
