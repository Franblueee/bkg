{
 "cells": [
  {
   "cell_type": "code",
   "execution_count": 1,
   "metadata": {},
   "outputs": [
    {
     "name": "stdout",
     "output_type": "stream",
     "text": [
      "Acc: 0.4218\n"
     ]
    }
   ],
   "source": [
    "import pandas as pd\n",
    "\n",
    "df = pd.read_csv(\"/work/work_fran/bkg/medqa/inference/1B-Instruct_100e/work_res.txt\", sep='\\t', header=None)\n",
    "pred_answers = df[0].str.split('OPTION ', expand=True)[1].str.split('IS', expand=True)[0].str.strip()\n",
    "true_answers = df[0].str.split('SPLIT', expand=True)[1].str.strip('[').str.strip(']') \n",
    "answer_df = pd.DataFrame({'true': true_answers, 'pred': pred_answers})\n",
    "answer_df = answer_df.loc[answer_df['pred'].isin(['A', 'B', 'C', 'D'])]\n",
    "acc = answer_df.loc[answer_df['true'] == answer_df['pred']].shape[0] / len(answer_df)\n",
    "print(\"Acc: %.4f\" % acc)"
   ]
  },
  {
   "cell_type": "code",
   "execution_count": 2,
   "metadata": {},
   "outputs": [
    {
     "name": "stdout",
     "output_type": "stream",
     "text": [
      "Acc: 0.4025\n"
     ]
    }
   ],
   "source": [
    "import pandas as pd\n",
    "\n",
    "df = pd.read_csv(\"/work/work_fran/bkg/medqa/inference/1B-Instruct_20e/work_res.txt\", sep='\\t', header=None)\n",
    "pred_answers = df[0].str.split('OPTION ', expand=True)[1].str.split('IS', expand=True)[0].str.strip()\n",
    "true_answers = df[0].str.split('SPLIT', expand=True)[1].str.strip('[').str.strip(']') \n",
    "answer_df = pd.DataFrame({'true': true_answers, 'pred': pred_answers})\n",
    "answer_df = answer_df.loc[answer_df['pred'].isin(['A', 'B', 'C', 'D'])]\n",
    "acc = answer_df.loc[answer_df['true'] == answer_df['pred']].shape[0] / len(answer_df)\n",
    "print(\"Acc: %.4f\" % acc)"
   ]
  }
 ],
 "metadata": {
  "kernelspec": {
   "display_name": "bkg",
   "language": "python",
   "name": "python3"
  },
  "language_info": {
   "codemirror_mode": {
    "name": "ipython",
    "version": 3
   },
   "file_extension": ".py",
   "mimetype": "text/x-python",
   "name": "python",
   "nbconvert_exporter": "python",
   "pygments_lexer": "ipython3",
   "version": "3.11.13"
  }
 },
 "nbformat": 4,
 "nbformat_minor": 2
}
